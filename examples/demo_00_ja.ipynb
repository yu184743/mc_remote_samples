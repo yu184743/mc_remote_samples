{
 "cells": [
  {
   "cell_type": "markdown",
   "id": "00bdc803",
   "metadata": {
    "slideshow": {
     "slide_type": "slide"
    }
   },
   "source": [
    "# マイクラリモコンを試してみよう！\n",
    "\n",
    "マイクラリモコンを使うと、PythonのコーディングでMinecraftサーバーをリモコンできる。\n",
    "例えば自動的に建築できるので、さっそく試してみよう。\n",
    "\n",
    "## １．マイクラアプリを準備する\n",
    "マルチプレイで接続し、リモコンの結果を見るためにマイクラアプリを使う。サーバー側で幅広く対応できる様に準備してあるので、**普段使っているものでオッケー。**\n",
    "ただし、サーバーはJava版ベースなのと、マイクラの新バージョン登場時に統合版が使えなくなる期間が存在するので、**Java版がオススメではある。**\n",
    "\n",
    "- **Minecraft Java版**\n",
    "  - バージョンは、1.8.ｘ以降、最新版まで対応。\n",
    "  - バニラでもいいし、FabricやNeoForgeを入れたものでもいい。ただし、相手はPaperMCサーバーなので、影modなどクライアント側だけに入れるmodしか使えない。\n",
    "  - **Irisを使って、Fabric + Sodiumにシェーダー（影mod）を入れたものを推奨する。**\n",
    "    - [Irisインストーラー](https://www.irisshaders.dev/)を使うと、簡単にシェーダーが入れられる。\n",
    "    - MakeUp Ultra-Fastシェーダーをオススメする。\n",
    "- **Minecraft Bedrock版（統合版）**\n",
    "  - バージョンは選べないので、最新版を使うことになる。ただし、最新版リリース直後のみ使えない期間（長くて1週間程度）がある。\n",
    "  - iOS /iPad / Android / Windows など、どれでも良い。\n",
    "  - Switch版、PS版などで、マルチプレイができない場合は使えないので、**やはりJava版がオススメ。**\n"
   ]
  },
  {
   "cell_type": "markdown",
   "id": "a44892d7",
   "metadata": {
    "slideshow": {
     "slide_type": "slide"
    }
   },
   "source": [
    "## ２．マイクラアプリで、箱庭サーバーに接続する\n",
    "\n",
    "箱庭サーバーに接続するための情報は、以下の通り。\n",
    "- サーバーアドレス：`mc-remote.xgames.jp`\n",
    "- ポート番号：\n",
    "  - Java版：`25565` （デフォルトのままなので、指定しなくて良い。）\n",
    "  - Bedrock版：`25575` （指定する必要あり。）\n",
    "\n",
    "<img src=\"../images/sandbox_server.png\" width=\"440\" alt=\"sandbox_server\" title=\"sandbox_server\" />\n",
    "\n",
    "世界に参加すると、整地されxyz軸が描かれた場所にスポーンする。\n",
    "y＝62の海水面に合わせて96x96ブロックで整地、xz軸は-40から+40までで描かれている。\n",
    "\n",
    "マイクラリモコンでは、公開サーバーで共同作業することを考慮して建築できる範囲に制限を設けることができる。\n",
    "\n",
    "箱庭サーバーでは設定した建築原点を中心として100ブロック四方の範囲で建築できるようになっている。つまり、この整地された範囲内での建築が可能。\n",
    "\n",
    "<img src=\"../images/flat_land.png\" width=\"440\" alt=\"flat land\" title=\"flat land\" />\n",
    "\n",
    "xyz軸は、以下のように設定されている。\n",
    "- x軸：ダイヤモンド（block.DIAMOND_BLOCK）\n",
    "- y軸：シーランタン（block.SEA_LANTERN）\n",
    "- z軸：金（block.GOLD_BLOCK）\n",
    "正領域（プラス）は実線、負領域（マイナス）は点線。ただし、y=0は地中になってしまうためy=96を仮想原点としている。\n",
    "\n",
    "なお、整地とxyz軸の描画は、このリポジトリにも同梱されているaxis_flat.pyで行っている。\n",
    "\n",
    "### （参考）LuckPermsとの連携\n",
    "\n",
    "マイクラリモコンは、LuckPermsという権限管理プラグインと連携して建築権限と建築範囲の設定を行なっている。\n",
    "そのため、コミュニティサーバーを立てる場合は初心者、エキスパート、Guruなど、グループごとに建築範囲の設定が可能。\n",
    "あるいは、完全に自分専用のサーバーを建てる場合などはLuckPermsを使わない選択肢もあり、そのときは、建築範囲をplugins/McRemote/config.ymlで設定できる。"
   ]
  },
  {
   "cell_type": "markdown",
   "id": "cc14b7f0",
   "metadata": {},
   "source": [
    "***\n",
    "\n",
    "## ３．マイクラリモコンで、Hello, world!\n",
    "\n",
    "### 最短コードでハローワールドを表示してみよう。\n",
    "\n",
    "**下準備として、下のセルで`PLAYER_NAME`を自分のプレイヤー名に置き換えてから実行する。**\n"
   ]
  },
  {
   "cell_type": "code",
   "execution_count": null,
   "id": "0c9dd99e",
   "metadata": {},
   "outputs": [],
   "source": [
    "PLAYER_NAME = \"player_name\"\n",
    "msg = \"Hello, world! こんにちは、世界！ from \"\n"
   ]
  },
  {
   "cell_type": "markdown",
   "id": "456bd03d",
   "metadata": {},
   "source": [
    "箱庭サーバーに参加した状態で次のコードを実行すると、マイクラのチャット欄に「Hello, world!」と表示される。"
   ]
  },
  {
   "cell_type": "code",
   "execution_count": null,
   "id": "af65de1a",
   "metadata": {},
   "outputs": [],
   "source": [
    "# 最短コードのハローワールド   建築原点(2000,0,2000)\n",
    "\n",
    "from mc_remote.minecraft import Minecraft\n",
    "mc = Minecraft.create(address='mc-remote.xgames.jp', port=25575)\n",
    "mc.setPlayer(PLAYER_NAME, 2000, 0, 2000)\n",
    "mc.postToChat(msg + PLAYER_NAME)\n"
   ]
  },
  {
   "cell_type": "markdown",
   "id": "1dd556ea",
   "metadata": {},
   "source": [
    "### エラーが出た？？\n",
    "\n",
    "マイクラリモコンのサーバーとの接続が確立した場合は、この様な表示がされる。必ず、建築原点を確認しておこう。\n",
    "\n",
    "```\n",
    "Player xxxx set to location: 0, 0, 0 in world \"world\"\n",
    "```\n",
    "\n",
    "\n",
    "プレイヤー名を間違えている場合は、以下のようなエラーが表示されるので、修正が必要。\n",
    "\n",
    "```\n",
    "SystemExit: Error: Player xxxx not found. Bye.\n",
    "```\n",
    "\n",
    "世界に参加していない場合は、この様にオフラインではリモコンできないというエラーが表示される。\n",
    "\n",
    "```\n",
    "SystemExit: Error: Player xxxx is not allowed Minecraft Remote offline. Bye.\n",
    "```\n",
    "\n",
    "そもそも、箱庭サーバーのマイクラリモコンサーバーに接続できない場合は、以下のようなエラーなどが表示される。\n",
    "\n",
    "```\n",
    "TimeoutError: timed out\n",
    "```\n",
    "\n",
    "プラグインのバージョンが上がっているかもしれない。その時は、クライアント / API側のバージョンも上げる必要がある。\n",
    "インストールの手順のところを参考にして、最新のものをインストールしてみよう。\n"
   ]
  },
  {
   "cell_type": "markdown",
   "id": "fc23c208",
   "metadata": {},
   "source": [
    "次は、ブロックを置いてみる。\n",
    "PLAYER_ORIGIN＝建築原点が（2000, 0, 2000）になっているので、結果を見るためには、そこに行かないといけない。\n",
    "\n",
    "マイクラのチャット欄で、**`/tp 2000 100 2000`と入力して建築原点上空に移動**しておこう。\n",
    "\n",
    "もしも、そこに誰かがなにか建築中だったら、さっきのセルで建築原点を（2200, 0, 2000）などに変更してから、もう一度実行しよう。まぁ、箱庭サーバーはどんどん壊して良いので、あまり気にしなくても良いかも。"
   ]
  },
  {
   "cell_type": "code",
   "execution_count": null,
   "id": "7dfba549",
   "metadata": {},
   "outputs": [],
   "source": [
    "mc.postToChat(\"my first block\")\n",
    "mc.setBlock(5, 68, 5, \"gold_block\")\n"
   ]
  },
  {
   "cell_type": "markdown",
   "id": "b4bb881b",
   "metadata": {},
   "source": [
    "PLAYER_ORIGIN＝建築原点が（2000, 0, 2000）の状態で、（5, 68, 5）を指定した場合、実際に金ブロックが置かれるのは、(2005, 68, 2005) になる。\n",
    "\n",
    "\n",
    "setBlockだけでも実行できる。次のセルをためそう。"
   ]
  },
  {
   "cell_type": "code",
   "execution_count": null,
   "id": "6d0e5c08",
   "metadata": {},
   "outputs": [],
   "source": [
    "# 金ブロックがシーランタンに変わる、はず。\n",
    "\n",
    "mc.setBlock(5, 68, 5, \"sea_lantern\")\n"
   ]
  },
  {
   "cell_type": "markdown",
   "id": "79874000",
   "metadata": {},
   "source": [
    "## ４．param_mc_remoteをモジュールとしてインポートして行う、スタンダードなスタイルを\n",
    "\n",
    "サーバーやプレイヤーなどの情報をユーザーコードと分離しておくと、他の人と共有したり、コードを再利用したりすることができるので、`param_mc_remote.py`というファイルを利用するスタイルをおすすめする。また、VS Codeなどでコードを書くとき、ブロックIDを補完してくれるので、非常に便利。\n",
    "\n",
    "以下の様な構成になっていると、hello.pyやdemo_00_ja.py（今読んでいるファイル）から、param_mc_remote.pyの設定を使うことができる。\n",
    "\n",
    "- demo_00_ja.py\n",
    "- hello.py\n",
    "- param_mc_remote.py\n",
    "\n",
    "\n",
    "### ここで、`param_mc_remote.py`を編集してください。\n",
    "\n",
    "**先ほどと同様、PLAYER_NAMEを自分のプレイヤー名に置き換え。**\n",
    "\n",
    "また、PLAYER_ORIGIN＝建築原点が（2000, 0, 2000）になっていることを確認。\n",
    "\n",
    "結果を見るためには、そこに行かないといけない。マイクラのチャット欄で、**`/tp 2000 100 2000`と入力して建築原点上空に移動**しておこう。もしも、そこに誰かがなにか建築中だったら、建築原点を（2200, 0, 2000）などに変更しよう。\n",
    "\n",
    "```\n",
    "PLAYER_NAME = \"PLAYER_NAME\"\n",
    "PLAYER_ORIGIN = Vec3(2000, 0, 2000)\n",
    "```\n",
    "\n",
    "下のセル2つにhello.pyの中身を記したので、順に実行してみよう。\n",
    "Hello, Minecraft Server!!と表示され、金ブロックが置かれるはず。**`param_mc_remote.py`を編集したよね？？**"
   ]
  },
  {
   "cell_type": "code",
   "execution_count": null,
   "id": "0d0d53e0",
   "metadata": {},
   "outputs": [],
   "source": [
    "# おまじない\n",
    "%load_ext autoreload\n",
    "%autoreload 2\n",
    "\n",
    "# hello.pyの中身\n",
    "\n",
    "from mc_remote.minecraft import Minecraft\n",
    "import param_mc_remote as param\n",
    "from param_mc_remote import PLAYER_ORIGIN as PO\n",
    "from param_mc_remote import block\n"
   ]
  },
  {
   "cell_type": "code",
   "execution_count": null,
   "id": "fb3b6136",
   "metadata": {},
   "outputs": [],
   "source": [
    "\n",
    "# Connect to minecraft and open a session as player with origin location\n",
    "mc = Minecraft.create(address=param.ADRS_MCR, port=param.PORT_MCR)\n",
    "mc.setPlayer(param.PLAYER_NAME, PO.x, PO.y, PO.z)\n",
    "\n",
    "mc.postToChat(\"Hello, Minecraft Server!!\")\n",
    "mc.setBlock(5, 68, 5, block.GOLD_BLOCK)\n"
   ]
  },
  {
   "cell_type": "markdown",
   "id": "c5f6ea41",
   "metadata": {},
   "source": [
    "うまく行ったら、上のセルでブロックの種類を変えてみよう。block.まで打つと、自動的に候補が出てくる。例えば、`block.DIAMOND_BLOCK`や`block.IRON_BLOCK`などにしてみよう。\n",
    "\n",
    "整地してxyz軸を描画してみよう。ここでもモジュールのインポートを使っている。\n",
    "\n",
    "***\n",
    "\n",
    "## ５．整地して、xyz軸を描画してみよう\n",
    "整地して、xyz軸を描画してみよう。`axis_flat.py`で定義されている関数を実行することで行える。\n",
    "次のセルを実行してみよう。**現在の建築原点がクリアされるので注意。**\n",
    "セルを分けたので、整地して、軸を描いて、消して、また描くということができる。"
   ]
  },
  {
   "cell_type": "code",
   "execution_count": null,
   "id": "fe116366",
   "metadata": {},
   "outputs": [],
   "source": [
    "# モジュールのインポート 実体は、axis_flat.pyだが、これも同じ階層にあるからインポートできる。\n",
    "import axis_flat\n"
   ]
  },
  {
   "cell_type": "code",
   "execution_count": null,
   "id": "2ad6b295",
   "metadata": {},
   "outputs": [],
   "source": [
    "# 整地する　　モジュールの中の関数にアクセスするには、モジュール名.関数名で。\n",
    "axis_flat.reset_minecraft_world(mc)\n"
   ]
  },
  {
   "cell_type": "code",
   "execution_count": null,
   "id": "9b937fdf",
   "metadata": {},
   "outputs": [],
   "source": [
    "# xyz軸を描画する　　wait=0.1によって、0.1秒ごとに描画することができる。\n",
    "axis_flat.draw_XYZ_axis(mc, wait=0.1)\n"
   ]
  },
  {
   "cell_type": "code",
   "execution_count": null,
   "id": "f93a57ee",
   "metadata": {},
   "outputs": [],
   "source": [
    "# xyz軸を消す\n",
    "axis_flat.clear_XYZ_axis(mc, wait=0.01)\n"
   ]
  },
  {
   "cell_type": "markdown",
   "id": "dfccadef",
   "metadata": {},
   "source": [
    "軸を描いたり、消したりしてみよう。軸があると、(5, 63, 5)がどこか？や、そこからｘ座標がが増える方向に、などというときにわかりやすい。\n",
    "\n",
    "***\n",
    "\n",
    "## ６．最後は、応用編。\n",
    "\n",
    "まずは、変数を使わず、半自動でブロックを積み上げる。\n"
   ]
  },
  {
   "cell_type": "code",
   "execution_count": null,
   "id": "c78ebbf4",
   "metadata": {},
   "outputs": [],
   "source": [
    "# 時間待ちを入れたいので、timeモジュールからsleep関数をインポートする。\n",
    "from time import sleep\n",
    "\n",
    "# 鉄ブロックを5つ、地面に積み上げる。\n",
    "mc.setBlock(9, 63, 9, block.IRON_BLOCK)\n",
    "sleep(0.5)\n",
    "mc.setBlock(9, 64, 9, block.IRON_BLOCK)\n",
    "sleep(0.5)\n",
    "mc.setBlock(9, 65, 9, block.IRON_BLOCK)\n",
    "sleep(0.5)\n",
    "mc.setBlock(9, 66, 9, block.IRON_BLOCK)\n",
    "sleep(0.5)\n",
    "mc.setBlock(9, 67, 9, block.IRON_BLOCK)\n",
    "sleep(0.5)\n"
   ]
  },
  {
   "cell_type": "markdown",
   "id": "8fa64af1",
   "metadata": {},
   "source": [
    "行数を増やしていけば、どんどん積み上げられるが、賢くない。5つなら良いが、20個、30個、50個と積み上げるのは大変だよね。\n",
    "\n",
    "では、変数とfor文による繰り返しを使って、自動的に積み上げてみよう。\n",
    "y座標63から、8個のブロックを積み上げる。"
   ]
  },
  {
   "cell_type": "code",
   "execution_count": null,
   "id": "a140d0b0",
   "metadata": {},
   "outputs": [],
   "source": [
    "y = 63\n",
    "for i in range(8):\n",
    "    mc.setBlock(9, y + i, 9, block.GOLD_BLOCK)\n",
    "    mc.postToChat(\"y = \" + str(i))\n",
    "    sleep(0.25)\n"
   ]
  },
  {
   "cell_type": "markdown",
   "id": "6b9649c3",
   "metadata": {},
   "source": [
    "x座標が増える方向に、1ブロック空けて柱を立てる。"
   ]
  },
  {
   "cell_type": "code",
   "execution_count": null,
   "id": "3cd0ada7",
   "metadata": {},
   "outputs": [],
   "source": [
    "y = 63\n",
    "for i in range(8):\n",
    "    mc.setBlock(11, y + i, 9, block.GOLD_BLOCK)\n",
    "    mc.postToChat(\"y = \" + str(i))\n",
    "    sleep(0.25)\n"
   ]
  },
  {
   "cell_type": "markdown",
   "id": "1cb2465f",
   "metadata": {},
   "source": [
    "柱を立てるための関数を定義して使って見よう。\n",
    "引数のデフォルト値を指定するタイプで関数を定義した場合はこうなる。\n",
    "    デフォルト＝default、（指定を）さぼること。\n",
    "    height=8と指定しているので、`height`を指定しない場合は8個積み上げる。\n",
    "    サボらずにheight=4と指定すると、4個積み上げることができる。"
   ]
  },
  {
   "cell_type": "code",
   "execution_count": null,
   "id": "d8d3435d",
   "metadata": {},
   "outputs": [],
   "source": [
    "def create_pillar(x=0, y=63, z=0, height=8, block_type=block.GOLD_BLOCK, wait=0.25):\n",
    "    for i in range(height):\n",
    "        mc.setBlock(x, y + i, z, block_type)\n",
    "        sleep(wait)\n"
   ]
  },
  {
   "cell_type": "code",
   "execution_count": null,
   "id": "add3a520",
   "metadata": {},
   "outputs": [],
   "source": [
    "# 引数の指定を全部サボる  y軸のところに柱が立つ。\n",
    "create_pillar()\n",
    "sleep(1)\n",
    "\n",
    "# x座標だけ指定して、あとはサボり。\n",
    "create_pillar(x=4)\n",
    "sleep(1)\n",
    "\n",
    "# その隣に、高さ12のダイヤモンドブロックの柱をゆっくり作る。\n",
    "create_pillar(x=5,height=12, block_type=block.DIAMOND_BLOCK, wait=0.5)\n",
    "\n"
   ]
  },
  {
   "cell_type": "markdown",
   "id": "5668ad52",
   "metadata": {},
   "source": [
    "ごちゃごちゃしてきて、わかりにくくなったら、整地して軸を描きなおそう。"
   ]
  },
  {
   "cell_type": "code",
   "execution_count": null,
   "id": "af07db0e",
   "metadata": {},
   "outputs": [],
   "source": [
    "axis_flat.reset_minecraft_world(mc)\n",
    "axis_flat.draw_XYZ_axis(mc, wait=0)\n"
   ]
  },
  {
   "cell_type": "markdown",
   "id": "b74aa092",
   "metadata": {},
   "source": [
    "関数を使って、柱を7本立ててみよう。\n",
    "- x座標が増える方向に、1ブロック空けて柱を立てる。\n",
    "- y座標は、63から8個積み上げる。\n",
    "- z座標は、どこかに指定する。\n",
    "\n",
    "下のセルでコードを書いてみよう。7回繰り返すところまでは書いてある。"
   ]
  },
  {
   "cell_type": "code",
   "execution_count": null,
   "id": "02ae24b0",
   "metadata": {},
   "outputs": [],
   "source": [
    "for i in range(7):  # 0~6、7回繰り返す\n",
    "\n"
   ]
  },
  {
   "cell_type": "markdown",
   "id": "f997489b",
   "metadata": {},
   "source": [
    "\n",
    "さぁ、これで、マイクラリモコンの基本的な使い方は終わり。自由に遊んでみよう。\n",
    "\n",
    "> なんだって？こんな説明じゃわからない！\n",
    "> \n",
    "> 箱庭サーバーじゃなくて、自分でサーバーを建てたい！\n",
    "> \n",
    "> こんな作品ができた、見てくれ！\n",
    "\n",
    "\n",
    "という人はCode2Create.ClubのDiscordサーバーに参加して、質問してみよう。招待コードは、[こちら](https://discord.com/invite/xUqhhqWsuS)。\n",
    "\n",
    "<img src=\"../images/discord.png\" width=\"240\" alt=\"Discord\" title=\"Discord\" />\n"
   ]
  },
  {
   "cell_type": "markdown",
   "id": "42416885",
   "metadata": {},
   "source": [
    "***\n"
   ]
  }
 ],
 "metadata": {
  "kernelspec": {
   "display_name": ".venv",
   "language": "python",
   "name": "python3"
  },
  "language_info": {
   "codemirror_mode": {
    "name": "ipython",
    "version": 3
   },
   "file_extension": ".py",
   "mimetype": "text/x-python",
   "name": "python",
   "nbconvert_exporter": "python",
   "pygments_lexer": "ipython3",
   "version": "3.11.9"
  }
 },
 "nbformat": 4,
 "nbformat_minor": 5
}
